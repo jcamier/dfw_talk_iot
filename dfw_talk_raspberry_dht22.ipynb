{
 "cells": [
  {
   "cell_type": "markdown",
   "id": "dfa036b0",
   "metadata": {},
   "source": [
    "<h1>Introduction/Musings of IoT with <span style=\"color:red;font-style: italic\">Raspberry Pi</span></h1>"
   ]
  },
  {
   "cell_type": "markdown",
   "id": "a5b71677",
   "metadata": {},
   "source": [
    "<img src=\"./iots_image.png\" alt=\"iot image\" width=\"500\" height=\"600\">"
   ]
  },
  {
   "cell_type": "markdown",
   "id": "35c61617",
   "metadata": {},
   "source": [
    "<h3 style=\"font-style:italic;\">by Jack Camier, Full Stack Software Engineer and IoT enthusiast</h3>\n",
    "\n",
    "https://github.com/jcamier\n",
    "\n",
    "https://www.linkedin.com/in/jacques-camier/"
   ]
  },
  {
   "cell_type": "markdown",
   "id": "92aa515c",
   "metadata": {},
   "source": [
    "## Here is the link to this talk:\n",
    "https://github.com/jcamier/dfw_talk_iot"
   ]
  },
  {
   "cell_type": "markdown",
   "id": "7c139346",
   "metadata": {},
   "source": [
    "<hr style=\"border:1px solid gray\"> </hr>\n",
    "<h2>Raspberry Pi main website:</h2>\n",
    "\n",
    "https://www.raspberrypi.org/\n",
    "\n",
    "<hr style=\"border:1px solid gray\"> </hr>"
   ]
  },
  {
   "cell_type": "markdown",
   "id": "88dfefc4",
   "metadata": {},
   "source": [
    "<h2><span>&#36</span>15 for Raspberry Pi Zero, <span>&#36</span>35 for Raspberry Pi4, up to <span>&#36</span>200+ Raspberry Pi Quad Core!</h2>"
   ]
  },
  {
   "cell_type": "markdown",
   "id": "0b783284",
   "metadata": {},
   "source": [
    "https://www.amazon.com/Raspberry-Model-2019-Quad-Bluetooth/dp/B07TC2BK1X/ref=sr_1_2?crid=3PCJKCQAF4156&keywords=rasberry+pi+4%2B&qid=1649211877&sprefix=rasb%2Caps%2C93&sr=8-2"
   ]
  },
  {
   "cell_type": "markdown",
   "id": "c23d2540",
   "metadata": {},
   "source": [
    "## In general, it is really cheap to get started. Make sure you get a pi with wifi/bluetooth enabled. Also, you need to buy a MicroSD card.\n",
    "\n",
    "<h2>They are also inexpensive about <span>&#36</span>10. You can buy it and install the Raspberry Pi OS or buy it pre-installed as below</h2"
   ]
  },
  {
   "cell_type": "markdown",
   "id": "c74cdfe0",
   "metadata": {},
   "source": [
    "https://www.amazon.com/STEADYGAMER-Raspberry-Preloaded-RASPBIAN-Compatible/dp/B07LGS1L4J/ref=sr_1_5?gclid=CjwKCAjw9LSSBhBsEiwAKtf0n2kiY1PIE6MxXgEjfVrYYdvlufTl0kL6Udll_toOlmWP9TpnBTIB3RoCL6wQAvD_BwE&hvadid=174224021033&hvdev=c&hvlocphy=1026734&hvnetw=g&hvqmt=e&hvrand=8786215796945791533&hvtargid=kwd-32771080720&hydadcr=19131_9441222&keywords=raspberry+pi+sd+card&qid=1649246643&sr=8-5"
   ]
  },
  {
   "cell_type": "markdown",
   "id": "b8b8bf6a",
   "metadata": {},
   "source": [
    "# Formatting:\n",
    "<h2>If you are going to install the Raspberry Pi OS, make sure you format the MicroSD card properly, otherwise you will run into problems. A lot of documentation on the web can be outdated. </h2>\n",
    "\n",
    "<h2>Today, there are 3 major formats of SD cards. They are the FAT16, FAT32, and exFAT formats. However, please note the Raspberry Pi's bootloader can only read from FAT16 and FAT32 SD cards.</h2>\n",
    "\n",
    "<h2>Here is a link for overall guidelines:</h2>\n",
    "\n",
    "https://recoverit.wondershare.com/format-sd-card/format-sd-card-for-raspberry-pi.html?gclid=CjwKCAjw9LSSBhBsEiwAKtf0n23pxrYCFAYlTRx9D2U1uT_yOEuqu3C4t5S8xl3hmF86PNNsCiSoCBoC0u8QAvD_BwE\n",
    "\n",
    "# OS Installation:\n",
    "<h2>There are really good instructions at this link on how to install the OS on a MicroSD card</h2>\n",
    "\n",
    "https://projects.raspberrypi.org/en/projects/raspberry-pi-setting-up/2"
   ]
  },
  {
   "cell_type": "markdown",
   "id": "624e699a",
   "metadata": {},
   "source": [
    "<hr style=\"border:2px solid gray\"> </hr>"
   ]
  },
  {
   "cell_type": "code",
   "execution_count": null,
   "id": "fcced575",
   "metadata": {},
   "outputs": [],
   "source": []
  }
 ],
 "metadata": {
  "kernelspec": {
   "display_name": "Python 3 (ipykernel)",
   "language": "python",
   "name": "python3"
  },
  "language_info": {
   "codemirror_mode": {
    "name": "ipython",
    "version": 3
   },
   "file_extension": ".py",
   "mimetype": "text/x-python",
   "name": "python",
   "nbconvert_exporter": "python",
   "pygments_lexer": "ipython3",
   "version": "3.10.1"
  }
 },
 "nbformat": 4,
 "nbformat_minor": 5
}
