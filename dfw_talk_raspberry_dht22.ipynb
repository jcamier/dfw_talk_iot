{
 "cells": [
  {
   "cell_type": "markdown",
   "id": "dfa036b0",
   "metadata": {},
   "source": [
    "<h1>Introduction/Musings of IoT with <span style=\"color:red;font-style: italic\">Raspberry Pi</span></h1>"
   ]
  },
  {
   "cell_type": "markdown",
   "id": "e0a07d58",
   "metadata": {},
   "source": [
    "<img src=\"./iots_image.png\" alt=\"iot image\" width=\"500\" height=\"600\">"
   ]
  },
  {
   "cell_type": "markdown",
   "id": "1b1691f3",
   "metadata": {},
   "source": [
    "<h3 style=\"font-style:italic;\">by Jack Camier, Full Stack Software Engineer and IoT enthusiast</h3>\n",
    "\n",
    "https://github.com/jcamier\n",
    "\n",
    "https://www.linkedin.com/in/jacques-camier/"
   ]
  },
  {
   "cell_type": "markdown",
   "id": "f3cd1bb9",
   "metadata": {},
   "source": [
    "## Here is the github link to this talk:\n",
    "https://github.com/jcamier/dfw_talk_iot"
   ]
  },
  {
   "cell_type": "markdown",
   "id": "7c139346",
   "metadata": {},
   "source": [
    "<hr style=\"border:1px solid gray\"> </hr>\n",
    "<h2>Raspberry Pi main website:</h2>\n",
    "\n",
    "https://www.raspberrypi.org/\n",
    "\n",
    "<hr style=\"border:1px solid gray\"> </hr>"
   ]
  },
  {
   "cell_type": "markdown",
   "id": "88dfefc4",
   "metadata": {},
   "source": [
    "## Easy entry to tinker:\n",
    "<h2><span>&#36</span>15 for Raspberry Pi Zero, <span>&#36</span>35 for Raspberry Pi4, or you can go up to <span>&#36</span>200+ with something like the Raspberry Pi Quad Core!</h2>"
   ]
  },
  {
   "cell_type": "markdown",
   "id": "0b783284",
   "metadata": {},
   "source": [
    "https://www.amazon.com/Raspberry-Model-2019-Quad-Bluetooth/dp/B07TC2BK1X/ref=sr_1_2?crid=3PCJKCQAF4156&keywords=rasberry+pi+4%2B&qid=1649211877&sprefix=rasb%2Caps%2C93&sr=8-2"
   ]
  },
  {
   "cell_type": "markdown",
   "id": "df1990c8",
   "metadata": {},
   "source": [
    "## In general, it is really cheap to get started. Make sure you get a pi with wifi/bluetooth enabled. Also, you need to buy a MicroSD card.\n",
    "\n",
    "<h2>They are also inexpensive about <span>&#36</span>10. You can buy it and install the Raspberry Pi OS yourself or buy it pre-installed as below</h2"
   ]
  },
  {
   "cell_type": "markdown",
   "id": "4c50d7bc",
   "metadata": {},
   "source": [
    "https://www.amazon.com/STEADYGAMER-Raspberry-Preloaded-RASPBIAN-Compatible/dp/B07LGS1L4J/ref=sr_1_5?gclid=CjwKCAjw9LSSBhBsEiwAKtf0n2kiY1PIE6MxXgEjfVrYYdvlufTl0kL6Udll_toOlmWP9TpnBTIB3RoCL6wQAvD_BwE&hvadid=174224021033&hvdev=c&hvlocphy=1026734&hvnetw=g&hvqmt=e&hvrand=8786215796945791533&hvtargid=kwd-32771080720&hydadcr=19131_9441222&keywords=raspberry+pi+sd+card&qid=1649246643&sr=8-5"
   ]
  },
  {
   "cell_type": "markdown",
   "id": "5dd34219",
   "metadata": {},
   "source": [
    "# Formatting:\n",
    "<h2>If you are going to install the Raspberry Pi OS, make sure you format the MicroSD card properly, otherwise you will run into problems. A lot of documentation on the web can be outdated. </h2>\n",
    "\n",
    "<h2>Today, there are 3 major formats of SD cards. They are the FAT16, FAT32, and exFAT formats. However, please note the Raspberry Pi's bootloader can only read from FAT16 and FAT32 SD cards from what I know.</h2>\n",
    "\n",
    "<h2>Here is a link for overall guidelines:</h2>\n",
    "\n",
    "https://recoverit.wondershare.com/format-sd-card/format-sd-card-for-raspberry-pi.html?gclid=CjwKCAjw9LSSBhBsEiwAKtf0n23pxrYCFAYlTRx9D2U1uT_yOEuqu3C4t5S8xl3hmF86PNNsCiSoCBoC0u8QAvD_BwE\n",
    "\n",
    "# OS Installation:\n",
    "<h2>There are really good instructions at this link on how to install the OS on a MicroSD card</h2>\n",
    "\n",
    "https://projects.raspberrypi.org/en/projects/raspberry-pi-setting-up/2"
   ]
  },
  {
   "cell_type": "markdown",
   "id": "d081d96e",
   "metadata": {},
   "source": [
    "<hr style=\"border:2px solid gray\"> </hr>"
   ]
  },
  {
   "cell_type": "markdown",
   "id": "ec269a88",
   "metadata": {},
   "source": [
    "<h2>For the sake of time, I won't demo installing the OS...it is pretty self-explanatory and there are great tutorials out there on the web</h2>\n",
    "\n",
    "<h2>Tonight I will be demoing, setting up a <span style=\"color:red;font-style: italic\">Raspberry PI 3 Model B+, Raspberry Pi OS - 10 buster\"</span> with <span style=\"color:red;font-style: italic\">DHT22</span> temperature sensor</h2>\n",
    "\n",
    "<h3>To find your version, you can use this command:</h3>\n",
    "`cat /etc/os-release | grep version -i`\n",
    "\n",
    "<h2>Originally, I tried to do this project using my Raspberry Pi Zero and that had <span style=\"color:gray;font-style: italic\">Zero</span> success... &#128530;</h2>"
   ]
  },
  {
   "cell_type": "markdown",
   "id": "04d0216a",
   "metadata": {},
   "source": [
    "<h2>I went to the Raspberry Pi forums and a lot of other people had similar problems</h2>\n",
    "\n",
    "https://forums.raspberrypi.com/\n",
    "\n",
    "<h2>So, I switched to use my Raspberry Pi 3 where another user commented that worked vs. using his Raspberry Pi zero with dht22</h2>"
   ]
  },
  {
   "cell_type": "markdown",
   "id": "1414c87e",
   "metadata": {},
   "source": [
    "<hr style=\"border:2px solid gray\"> </hr>"
   ]
  },
  {
   "cell_type": "markdown",
   "id": "13253cc0",
   "metadata": {},
   "source": [
    "<h1>The Project:</h1>\n",
    "\n",
    "<h3>I got some of my ideas for this project from:</h3>\n",
    "    \n",
    "https://learn.adafruit.com/dht-humidity-sensing-on-raspberry-pi-with-gdocs-logging/python-setup"
   ]
  },
  {
   "cell_type": "markdown",
   "id": "37869a8c",
   "metadata": {},
   "source": [
    "<h2>I highly recommend setting up ssh on your raspberry pi. We are developers, so we should be comfortable using the command line. Also, you can develop from your laptop to your raspberry pi using ssh</h2>\n",
    "\n",
    "<ul>\n",
    "    <li>Setup Wifi</li>\n",
    "</ul>\n",
    "\n",
    "https://www.seeedstudio.com/blog/2021/01/25/three-methods-to-configure-raspberry-pi-wifi/"
   ]
  },
  {
   "cell_type": "markdown",
   "id": "8c538fe4",
   "metadata": {},
   "source": [
    "<ul>\n",
    "    <li>Setup ssh</li>\n",
    "</ul>\n",
    "\n",
    "https://roboticsbackend.com/enable-ssh-on-raspberry-pi-raspbian/\n",
    "\n",
    "<ul>\n",
    "    <li>Enbable I2C* protocol on your raspberry pi</li>\n",
    "</ul>\n",
    "\n",
    "https://www.raspberrypi-spy.co.uk/2014/11/enabling-the-i2c-interface-on-the-raspberry-pi/\n",
    "\n",
    "<h3 style=\"font-style: italic\">*The I2C protocol is used to establish communication between two or more IC's (Integrated Circuits)</h3>"
   ]
  },
  {
   "cell_type": "markdown",
   "id": "410bf19d",
   "metadata": {},
   "source": [
    "<h2>Once in the command line, do the following to get and update the latest packages on your raspberry pi</h2>\n",
    "\n",
    "`sudo apt update`\n",
    "\n",
    "`sudo apt-get upgrade -y`\n",
    "\n",
    "Depending on your os, you might need to do the following as well:\n",
    "\n",
    "`sudo apt-get install python3-pip`\n",
    "\n",
    "`sudo pip3 install --upgrade setuptools`"
   ]
  },
  {
   "cell_type": "markdown",
   "id": "214004e7",
   "metadata": {},
   "source": [
    "<h2>Next, update your boot config file to allow for gpio reads - dtoverlay (device tree overlays). Device Tree makes it possible\n",
    "to support many hardware configurations with a single kernel and without the\n",
    "need to explicitly load or blacklist kernel modules</h2>\n",
    "\n",
    "`sudo nano /boot/config.txt -l`\n",
    "\n",
    "Go to the bottom of the file and add this configuration:\n",
    "\n",
    "`dtoverlay=w1-gpio`\n",
    "\n",
    "Ctrl+x to exit (yes, to save the modified buffer)"
   ]
  },
  {
   "cell_type": "markdown",
   "id": "fe76d9f8",
   "metadata": {},
   "source": [
    "<h2>Now, install the newer dht library. You might find older tutorials using a different dht library and they will not work with a lot of the newer pi stuff out there.</h2>\n",
    "\n",
    "<h2>I spent a day debugging my project to find out I was using the older library and an old tutorial that no longer works! &#128555;</h2>\n",
    "\n",
    "`pip3 install adafruit-circuitpython-dht` or `pip install adafruit-circuitpython-dht` depending on your os"
   ]
  },
  {
   "cell_type": "markdown",
   "id": "b57d6912",
   "metadata": {},
   "source": [
    "<h2>You will also need the C library libgpiod2 for interacting with Linux GPIO devices</h2>\n",
    "\n",
    "`sudo apt-get install libgpiod2`\n",
    "\n",
    "* https://packages.debian.org/unstable/libgpiod2"
   ]
  },
  {
   "cell_type": "markdown",
   "id": "e2389184",
   "metadata": {},
   "source": [
    "<h2>Be sure to reboot your raspberry pi at this point for all these services and configs to start running</h2>\n",
    "\n",
    "`sudo reboot`"
   ]
  },
  {
   "cell_type": "markdown",
   "id": "c3b3dd19",
   "metadata": {},
   "source": [
    "<hr>"
   ]
  },
  {
   "cell_type": "markdown",
   "id": "4364f677",
   "metadata": {},
   "source": [
    "<h2>Now, for the most challenging and frustrating part...</h2>\n",
    "\n",
    "<h1>Wiring:</h1>\n",
    "\n",
    "<h2 style=\"color:red;font-style: italic\">Do the following steps without having your pi running</h2>\n",
    "\n",
    "I used the following link for guidance (this has the old dht library that doesn't work...:\n",
    "\n",
    "https://pimylifeup.com/raspberry-pi-humidity-sensor-dht22/"
   ]
  },
  {
   "attachments": {},
   "cell_type": "markdown",
   "id": "7228e598",
   "metadata": {},
   "source": [
    "<img src=\"./dht22_wiring_breadboard.webp\" alt=\"dht22 wiring\" width=\"300\" height=\"300\">"
   ]
  },
  {
   "cell_type": "markdown",
   "id": "c0138f8e",
   "metadata": {},
   "source": [
    "<h2>I recommend using a 10k Ohm resistor. The 4.7k did not work for me. Also, the picture above does not look like the one I have from my kit. If you don't use a resistor, you will most likely fry your GPIO pin...&#128549;</h2>\n",
    "\n",
    "I used these from Amazon:\n",
    "\n",
    "https://www.amazon.com/s?k=10k+ohm+resistor&gclid=Cj0KCQjwl7qSBhD-ARIsACvV1X2DAzXr6oeIOtcyacjVRBUpxuNiar4UN9htXctal1hbze1roOIW2kEaAn59EALw_wcB&hvadid=177285153592&hvdev=c&hvlocphy=1026734&hvnetw=g&hvqmt=e&hvrand=9114311817616353206&hvtargid=kwd-6783760661&hydadcr=18886_9696396&tag=googhydr-20&ref=pd_sl_6vyanjjkw7_e"
   ]
  },
  {
   "cell_type": "markdown",
   "id": "50b10651",
   "metadata": {},
   "source": [
    "<h3 style=\"color:orange;font-style: italic\">If you get can't a data read on line 4 (data - GPIO4), your wiring is most likely incorrect.</h3>"
   ]
  },
  {
   "cell_type": "markdown",
   "id": "9d0704c8",
   "metadata": {},
   "source": [
    "This is what mine looks like:\n",
    "\n",
    "<img src=\"./my_pi_dht22_wiring.jpg\" alt=\"pi wiring\" width=\"300\" height=\"300\">"
   ]
  },
  {
   "cell_type": "markdown",
   "id": "26080f32",
   "metadata": {},
   "source": [
    "<h1>Python Dht22 Code:</h1>\n",
    "\n",
    "`sudo nano dht_temp.py -l`\n",
    "\n",
    "-----\n",
    "```\n",
    "import time\n",
    "import board\n",
    "import adafruit_dht\n",
    "\n",
    "# Initiate the dht device:\n",
    "# DHT22 use_pulseio=False, I found that it does not work otherwise.\n",
    "try:\n",
    "    dht = adafruit_dht.DHT22(board.D4, use_pulseio=False)\n",
    "except Exception as e:\n",
    "    print(e)\n",
    "\n",
    "while True:\n",
    "    try:\n",
    "        # Print the values to the serial port\n",
    "        temperature_c = dht.temperature\n",
    "        temperature_f = temperature_c * (9 / 5) + 32\n",
    "        humidity = dht.humidity\n",
    "        print(\n",
    "            \"Temp: {:.1f} F / {:.1f} C    Humidity: {}% \".format(\n",
    "                temperature_f, temperature_c, humidity\n",
    "            )\n",
    "        )\n",
    "\n",
    "    except RuntimeError as error:\n",
    "        # Errors happen fairly often, DHT's are hard to read, just keep going\n",
    "        print(error.args[0])\n",
    "        time.sleep(2.0)\n",
    "        continue\n",
    "    except Exception as error:\n",
    "        print(f'overall error {error}')\n",
    "        dht.exit()\n",
    "        raise error\n",
    "\n",
    "    time.sleep(2.0)\n",
    "```\n",
    "\n",
    "----"
   ]
  },
  {
   "cell_type": "markdown",
   "id": "9ead537d",
   "metadata": {},
   "source": [
    "<h2>To run the code</h2>\n",
    "\n",
    "`python3 dht_temp.py` or `python dht_temp.py` depending on your os if it defaults to python 3 or not\n",
    "\n",
    "Here is an example of a recent output of mine:\n",
    "\n",
    "```\n",
    "Temp: 70.0 F / 21.1 C    Humidity: 51.7% \n",
    "Checksum did not validate. Try again.\n",
    "Temp: 70.0 F / 21.1 C    Humidity: 51.7% \n",
    "Temp: 70.0 F / 21.1 C    Humidity: 52.6% \n",
    "Checksum did not validate. Try again.\n",
    "Temp: 70.0 F / 21.1 C    Humidity: 52.6% \n",
    "Temp: 70.0 F / 21.1 C    Humidity: 51.7% \n",
    "Temp: 70.0 F / 21.1 C    Humidity: 52.6% \n",
    "Checksum did not validate. Try again.\n",
    "Temp: 70.0 F / 21.1 C    Humidity: 52.6% \n",
    "DHT sensor not found, check wiring\n",
    "Checksum did not validate. Try again.\n",
    "Temp: 70.0 F / 21.1 C    Humidity: 52.5% \n",
    "```"
   ]
  },
  {
   "cell_type": "markdown",
   "id": "8274e183",
   "metadata": {},
   "source": [
    "<h2>As you can see, the dht data read is very unstable on a second by second basis</h2>\n",
    "\n",
    "<h2>I plan on having my raspberry pi to make REST API calls to my Django project and update the database to persist the data</h2>"
   ]
  },
  {
   "cell_type": "markdown",
   "id": "7bc9b676",
   "metadata": {},
   "source": [
    "<h2>Have fun with your project</h2>\n",
    "\n",
    "<h2 style=\"color:blue;font-style: italic\">Thank you!</h2>"
   ]
  }
 ],
 "metadata": {
  "kernelspec": {
   "display_name": "Python 3 (ipykernel)",
   "language": "python",
   "name": "python3"
  },
  "language_info": {
   "codemirror_mode": {
    "name": "ipython",
    "version": 3
   },
   "file_extension": ".py",
   "mimetype": "text/x-python",
   "name": "python",
   "nbconvert_exporter": "python",
   "pygments_lexer": "ipython3",
   "version": "3.10.1"
  }
 },
 "nbformat": 4,
 "nbformat_minor": 5
}
